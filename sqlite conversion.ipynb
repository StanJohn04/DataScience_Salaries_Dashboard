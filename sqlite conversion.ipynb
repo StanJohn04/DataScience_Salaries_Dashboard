{
 "cells": [
  {
   "cell_type": "code",
   "execution_count": 1,
   "id": "bd8cf197",
   "metadata": {},
   "outputs": [],
   "source": [
    "import sqlalchemy\n",
    "from sqlalchemy.ext.automap import automap_base\n",
    "from sqlalchemy.orm import Session\n",
    "from sqlalchemy import create_engine, func, MetaData"
   ]
  },
  {
   "cell_type": "code",
   "execution_count": 11,
   "id": "ff27ecaa",
   "metadata": {},
   "outputs": [],
   "source": [
    "engine = create_engine(\"sqlite:///my_data.db\", echo=True)"
   ]
  },
  {
   "cell_type": "code",
   "execution_count": 12,
   "id": "abcb4ec1",
   "metadata": {},
   "outputs": [],
   "source": [
    "m = MetaData()"
   ]
  },
  {
   "cell_type": "code",
   "execution_count": 13,
   "id": "563be53a",
   "metadata": {},
   "outputs": [
    {
     "name": "stdout",
     "output_type": "stream",
     "text": [
      "2023-06-05 16:11:36,146 INFO sqlalchemy.engine.Engine SELECT name FROM sqlite_master WHERE type='table' ORDER BY name\n",
      "2023-06-05 16:11:36,147 INFO sqlalchemy.engine.Engine [raw sql] ()\n",
      "2023-06-05 16:11:36,150 INFO sqlalchemy.engine.Engine PRAGMA main.table_xinfo(\"data_salaries\")\n",
      "2023-06-05 16:11:36,151 INFO sqlalchemy.engine.Engine [raw sql] ()\n",
      "2023-06-05 16:11:36,156 INFO sqlalchemy.engine.Engine SELECT sql FROM  (SELECT * FROM sqlite_master UNION ALL   SELECT * FROM sqlite_temp_master) WHERE name = ? AND type = 'table'\n",
      "2023-06-05 16:11:36,157 INFO sqlalchemy.engine.Engine [raw sql] ('data_salaries',)\n",
      "2023-06-05 16:11:36,160 INFO sqlalchemy.engine.Engine PRAGMA main.foreign_key_list(\"data_salaries\")\n",
      "2023-06-05 16:11:36,162 INFO sqlalchemy.engine.Engine [raw sql] ()\n",
      "2023-06-05 16:11:36,164 INFO sqlalchemy.engine.Engine PRAGMA temp.foreign_key_list(\"data_salaries\")\n",
      "2023-06-05 16:11:36,166 INFO sqlalchemy.engine.Engine [raw sql] ()\n",
      "2023-06-05 16:11:36,169 INFO sqlalchemy.engine.Engine SELECT sql FROM  (SELECT * FROM sqlite_master UNION ALL   SELECT * FROM sqlite_temp_master) WHERE name = ? AND type = 'table'\n",
      "2023-06-05 16:11:36,170 INFO sqlalchemy.engine.Engine [raw sql] ('data_salaries',)\n",
      "2023-06-05 16:11:36,170 INFO sqlalchemy.engine.Engine PRAGMA main.index_list(\"data_salaries\")\n",
      "2023-06-05 16:11:36,170 INFO sqlalchemy.engine.Engine [raw sql] ()\n",
      "2023-06-05 16:11:36,178 INFO sqlalchemy.engine.Engine PRAGMA temp.index_list(\"data_salaries\")\n",
      "2023-06-05 16:11:36,180 INFO sqlalchemy.engine.Engine [raw sql] ()\n",
      "2023-06-05 16:11:36,181 INFO sqlalchemy.engine.Engine PRAGMA main.index_list(\"data_salaries\")\n",
      "2023-06-05 16:11:36,182 INFO sqlalchemy.engine.Engine [raw sql] ()\n",
      "2023-06-05 16:11:36,185 INFO sqlalchemy.engine.Engine PRAGMA temp.index_list(\"data_salaries\")\n",
      "2023-06-05 16:11:36,185 INFO sqlalchemy.engine.Engine [raw sql] ()\n",
      "2023-06-05 16:11:36,185 INFO sqlalchemy.engine.Engine SELECT sql FROM  (SELECT * FROM sqlite_master UNION ALL   SELECT * FROM sqlite_temp_master) WHERE name = ? AND type = 'table'\n",
      "2023-06-05 16:11:36,185 INFO sqlalchemy.engine.Engine [raw sql] ('data_salaries',)\n",
      "2023-06-05 16:11:36,193 INFO sqlalchemy.engine.Engine PRAGMA main.table_xinfo(\"data_science\")\n",
      "2023-06-05 16:11:36,194 INFO sqlalchemy.engine.Engine [raw sql] ()\n",
      "2023-06-05 16:11:36,197 INFO sqlalchemy.engine.Engine SELECT sql FROM  (SELECT * FROM sqlite_master UNION ALL   SELECT * FROM sqlite_temp_master) WHERE name = ? AND type = 'table'\n",
      "2023-06-05 16:11:36,198 INFO sqlalchemy.engine.Engine [raw sql] ('data_science',)\n",
      "2023-06-05 16:11:36,200 INFO sqlalchemy.engine.Engine PRAGMA main.foreign_key_list(\"data_science\")\n",
      "2023-06-05 16:11:36,202 INFO sqlalchemy.engine.Engine [raw sql] ()\n",
      "2023-06-05 16:11:36,203 INFO sqlalchemy.engine.Engine PRAGMA temp.foreign_key_list(\"data_science\")\n",
      "2023-06-05 16:11:36,204 INFO sqlalchemy.engine.Engine [raw sql] ()\n",
      "2023-06-05 16:11:36,206 INFO sqlalchemy.engine.Engine SELECT sql FROM  (SELECT * FROM sqlite_master UNION ALL   SELECT * FROM sqlite_temp_master) WHERE name = ? AND type = 'table'\n",
      "2023-06-05 16:11:36,207 INFO sqlalchemy.engine.Engine [raw sql] ('data_science',)\n",
      "2023-06-05 16:11:36,209 INFO sqlalchemy.engine.Engine PRAGMA main.index_list(\"data_science\")\n",
      "2023-06-05 16:11:36,210 INFO sqlalchemy.engine.Engine [raw sql] ()\n",
      "2023-06-05 16:11:36,210 INFO sqlalchemy.engine.Engine PRAGMA main.index_list(\"data_science\")\n",
      "2023-06-05 16:11:36,210 INFO sqlalchemy.engine.Engine [raw sql] ()\n",
      "2023-06-05 16:11:36,210 INFO sqlalchemy.engine.Engine PRAGMA main.index_info(\"sqlite_autoindex_data_science_1\")\n",
      "2023-06-05 16:11:36,210 INFO sqlalchemy.engine.Engine [raw sql] ()\n",
      "2023-06-05 16:11:36,210 INFO sqlalchemy.engine.Engine SELECT sql FROM  (SELECT * FROM sqlite_master UNION ALL   SELECT * FROM sqlite_temp_master) WHERE name = ? AND type = 'table'\n",
      "2023-06-05 16:11:36,210 INFO sqlalchemy.engine.Engine [raw sql] ('data_science',)\n"
     ]
    }
   ],
   "source": [
    "base = automap_base(bind=engine, metadata=m)\n",
    "base.prepare(engine, reflect=True)"
   ]
  },
  {
   "cell_type": "code",
   "execution_count": 14,
   "id": "f67567d9",
   "metadata": {},
   "outputs": [
    {
     "data": {
      "text/plain": [
       "['data_science']"
      ]
     },
     "execution_count": 14,
     "metadata": {},
     "output_type": "execute_result"
    }
   ],
   "source": [
    "base.classes.keys()"
   ]
  },
  {
   "cell_type": "code",
   "execution_count": 104,
   "id": "8a432057",
   "metadata": {},
   "outputs": [],
   "source": [
    "session = Session(engine)"
   ]
  },
  {
   "cell_type": "code",
   "execution_count": 106,
   "id": "96a38fd7",
   "metadata": {},
   "outputs": [],
   "source": [
    "Data_Science = Base.classes.data_science"
   ]
  },
  {
   "cell_type": "code",
   "execution_count": 109,
   "id": "05651124",
   "metadata": {},
   "outputs": [
    {
     "name": "stdout",
     "output_type": "stream",
     "text": [
      "2023-06-02 13:22:37,318 INFO sqlalchemy.engine.Engine SELECT data_science.work_year AS data_science_work_year \n",
      "FROM data_science \n",
      " LIMIT %(param_1)s\n",
      "2023-06-02 13:22:37,320 INFO sqlalchemy.engine.Engine [cached since 17.09s ago] {'param_1': 1}\n"
     ]
    },
    {
     "data": {
      "text/plain": [
       "2023"
      ]
     },
     "execution_count": 109,
     "metadata": {},
     "output_type": "execute_result"
    }
   ],
   "source": [
    "session.query(Data_Science.work_year).first()[0]"
   ]
  },
  {
   "cell_type": "code",
   "execution_count": 36,
   "id": "36bc5124",
   "metadata": {},
   "outputs": [],
   "source": [
    "import sqlite3\n",
    "\n",
    "conn = sqlite3.connect(\"my_data.db\")\n",
    "c = conn.cursor()"
   ]
  },
  {
   "cell_type": "code",
   "execution_count": 38,
   "id": "aeba3be6",
   "metadata": {},
   "outputs": [],
   "source": [
    "data = c.execute(\"SELECT * FROM data_salaries\").fetchall()"
   ]
  },
  {
   "cell_type": "code",
   "execution_count": null,
   "id": "c3a3bd18",
   "metadata": {},
   "outputs": [],
   "source": []
  },
  {
   "cell_type": "code",
   "execution_count": 41,
   "id": "64558fa1",
   "metadata": {},
   "outputs": [],
   "source": [
    "import pandas as pd\n",
    "\n",
    "df = pd.read_sql(\"SELECT * FROM data_salaries\", conn)"
   ]
  },
  {
   "cell_type": "code",
   "execution_count": 42,
   "id": "19e6b783",
   "metadata": {},
   "outputs": [
    {
     "data": {
      "text/html": [
       "<div>\n",
       "<style scoped>\n",
       "    .dataframe tbody tr th:only-of-type {\n",
       "        vertical-align: middle;\n",
       "    }\n",
       "\n",
       "    .dataframe tbody tr th {\n",
       "        vertical-align: top;\n",
       "    }\n",
       "\n",
       "    .dataframe thead th {\n",
       "        text-align: right;\n",
       "    }\n",
       "</style>\n",
       "<table border=\"1\" class=\"dataframe\">\n",
       "  <thead>\n",
       "    <tr style=\"text-align: right;\">\n",
       "      <th></th>\n",
       "      <th>work_year</th>\n",
       "      <th>experience_level</th>\n",
       "      <th>employment_type</th>\n",
       "      <th>job_title</th>\n",
       "      <th>salary</th>\n",
       "      <th>salary_currency</th>\n",
       "      <th>salary_in_usd</th>\n",
       "      <th>employee_residence</th>\n",
       "      <th>remote_ratio</th>\n",
       "      <th>company_location</th>\n",
       "      <th>company_size</th>\n",
       "    </tr>\n",
       "  </thead>\n",
       "  <tbody>\n",
       "    <tr>\n",
       "      <th>0</th>\n",
       "      <td>2023</td>\n",
       "      <td>SE</td>\n",
       "      <td>FT</td>\n",
       "      <td>Principal Data Scientist</td>\n",
       "      <td>80000</td>\n",
       "      <td>EUR</td>\n",
       "      <td>85847</td>\n",
       "      <td>ES</td>\n",
       "      <td>100</td>\n",
       "      <td>ES</td>\n",
       "      <td>L</td>\n",
       "    </tr>\n",
       "    <tr>\n",
       "      <th>1</th>\n",
       "      <td>2023</td>\n",
       "      <td>MI</td>\n",
       "      <td>CT</td>\n",
       "      <td>ML Engineer</td>\n",
       "      <td>30000</td>\n",
       "      <td>USD</td>\n",
       "      <td>30000</td>\n",
       "      <td>US</td>\n",
       "      <td>100</td>\n",
       "      <td>US</td>\n",
       "      <td>S</td>\n",
       "    </tr>\n",
       "    <tr>\n",
       "      <th>2</th>\n",
       "      <td>2023</td>\n",
       "      <td>MI</td>\n",
       "      <td>CT</td>\n",
       "      <td>ML Engineer</td>\n",
       "      <td>25500</td>\n",
       "      <td>USD</td>\n",
       "      <td>25500</td>\n",
       "      <td>US</td>\n",
       "      <td>100</td>\n",
       "      <td>US</td>\n",
       "      <td>S</td>\n",
       "    </tr>\n",
       "    <tr>\n",
       "      <th>3</th>\n",
       "      <td>2023</td>\n",
       "      <td>SE</td>\n",
       "      <td>FT</td>\n",
       "      <td>Data Scientist</td>\n",
       "      <td>175000</td>\n",
       "      <td>USD</td>\n",
       "      <td>175000</td>\n",
       "      <td>CA</td>\n",
       "      <td>100</td>\n",
       "      <td>CA</td>\n",
       "      <td>M</td>\n",
       "    </tr>\n",
       "    <tr>\n",
       "      <th>4</th>\n",
       "      <td>2023</td>\n",
       "      <td>SE</td>\n",
       "      <td>FT</td>\n",
       "      <td>Data Scientist</td>\n",
       "      <td>120000</td>\n",
       "      <td>USD</td>\n",
       "      <td>120000</td>\n",
       "      <td>CA</td>\n",
       "      <td>100</td>\n",
       "      <td>CA</td>\n",
       "      <td>M</td>\n",
       "    </tr>\n",
       "  </tbody>\n",
       "</table>\n",
       "</div>"
      ],
      "text/plain": [
       "   work_year experience_level employment_type                 job_title  \\\n",
       "0       2023               SE              FT  Principal Data Scientist   \n",
       "1       2023               MI              CT               ML Engineer   \n",
       "2       2023               MI              CT               ML Engineer   \n",
       "3       2023               SE              FT            Data Scientist   \n",
       "4       2023               SE              FT            Data Scientist   \n",
       "\n",
       "   salary salary_currency  salary_in_usd employee_residence  remote_ratio  \\\n",
       "0   80000             EUR          85847                 ES           100   \n",
       "1   30000             USD          30000                 US           100   \n",
       "2   25500             USD          25500                 US           100   \n",
       "3  175000             USD         175000                 CA           100   \n",
       "4  120000             USD         120000                 CA           100   \n",
       "\n",
       "  company_location company_size  \n",
       "0               ES            L  \n",
       "1               US            S  \n",
       "2               US            S  \n",
       "3               CA            M  \n",
       "4               CA            M  "
      ]
     },
     "execution_count": 42,
     "metadata": {},
     "output_type": "execute_result"
    }
   ],
   "source": [
    "df.head()"
   ]
  },
  {
   "cell_type": "code",
   "execution_count": null,
   "id": "7f344696",
   "metadata": {},
   "outputs": [],
   "source": []
  }
 ],
 "metadata": {
  "kernelspec": {
   "display_name": "Python [conda env:PythonData]",
   "language": "python",
   "name": "conda-env-PythonData-py"
  },
  "language_info": {
   "codemirror_mode": {
    "name": "ipython",
    "version": 3
   },
   "file_extension": ".py",
   "mimetype": "text/x-python",
   "name": "python",
   "nbconvert_exporter": "python",
   "pygments_lexer": "ipython3",
   "version": "3.7.13"
  }
 },
 "nbformat": 4,
 "nbformat_minor": 5
}
