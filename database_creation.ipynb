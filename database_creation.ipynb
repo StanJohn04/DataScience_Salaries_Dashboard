{
 "cells": [
  {
   "cell_type": "code",
   "execution_count": 6,
   "id": "464ab899",
   "metadata": {},
   "outputs": [],
   "source": [
    "import sqlalchemy\n",
    "from sqlalchemy.ext.automap import automap_base\n",
    "from sqlalchemy.orm import Session\n",
    "from sqlalchemy import create_engine, func, MetaData"
   ]
  },
  {
   "cell_type": "code",
   "execution_count": 1,
   "id": "7af9792a",
   "metadata": {},
   "outputs": [],
   "source": [
    "from pathlib import Path\n",
    "Path('my_data.sqlite').touch()"
   ]
  },
  {
   "cell_type": "code",
   "execution_count": 2,
   "id": "3c1038c3",
   "metadata": {},
   "outputs": [],
   "source": [
    "import sqlite3\n",
    "conn = sqlite3.connect('my_data.sqlite')\n",
    "c = conn.cursor()"
   ]
  },
  {
   "cell_type": "code",
   "execution_count": 3,
   "id": "d97c27cb",
   "metadata": {},
   "outputs": [
    {
     "data": {
      "text/plain": [
       "<sqlite3.Cursor at 0x26a2e39a340>"
      ]
     },
     "execution_count": 3,
     "metadata": {},
     "output_type": "execute_result"
    }
   ],
   "source": [
    "# new cell block\n",
    "# different from one below because i adds a id_card col as primary key\n",
    "# this allows the db file to work with sqlalchemy \n",
    "c.execute('''CREATE TABLE data_science (\n",
    "    work_year INTEGER\n",
    "    experience_level TEXT,\n",
    "    employment_type TEXT,\n",
    "    job_title TEXT,\n",
    "    salary INTEGER,\n",
    "    salary_currency TEXT,\n",
    "    salary_in_usd INTEGER,\n",
    "    employee_residence TEXT,\n",
    "    remote_ratio INTEGER,\n",
    "    company_location TEXT,\n",
    "    company_size TEXT,\n",
    "    id_card Serial,\n",
    "    CONSTRAINT data_science_pkey PRIMARY KEY (id_card)\n",
    ");\n",
    "''')"
   ]
  },
  {
   "cell_type": "code",
   "execution_count": 4,
   "id": "f5f34fcc",
   "metadata": {},
   "outputs": [
    {
     "data": {
      "text/plain": [
       "<sqlite3.Cursor at 0x1f79d781420>"
      ]
     },
     "execution_count": 4,
     "metadata": {},
     "output_type": "execute_result"
    }
   ],
   "source": [
    "# c.execute('''CREATE TABLE data_science (\n",
    "#     work_year INTEGER\n",
    "#     experience_level TEXT,\n",
    "#     employment_type TEXT,\n",
    "#     job_title TEXT,\n",
    "#     salary INTEGER,\n",
    "#     salary_currency TEXT,\n",
    "#     salary_in_usd INTEGER,\n",
    "#     employee_residence TEXT,\n",
    "#     remote_ratio INTEGER,\n",
    "#     company_location TEXT,\n",
    "#     company_size TEXT\n",
    "# );\n",
    "# ''')"
   ]
  },
  {
   "cell_type": "code",
   "execution_count": 4,
   "id": "8f6d702c",
   "metadata": {},
   "outputs": [
    {
     "data": {
      "text/plain": [
       "3755"
      ]
     },
     "execution_count": 4,
     "metadata": {},
     "output_type": "execute_result"
    }
   ],
   "source": [
    "import pandas as pd\n",
    "# load the data into a Pandas DataFrame\n",
    "data = pd.read_csv(r\"Data\\ds_salaries.csv\")\n",
    "# write the data to a sqlite table\n",
    "data.to_sql('data_salaries', conn, if_exists='append', index = False)"
   ]
  },
  {
   "cell_type": "code",
   "execution_count": 21,
   "id": "d6a2fdd7",
   "metadata": {},
   "outputs": [
    {
     "ename": "ProgrammingError",
     "evalue": "Cannot operate on a closed database.",
     "output_type": "error",
     "traceback": [
      "\u001b[1;31m---------------------------------------------------------------------------\u001b[0m",
      "\u001b[1;31mProgrammingError\u001b[0m                          Traceback (most recent call last)",
      "Cell \u001b[1;32mIn[21], line 1\u001b[0m\n\u001b[1;32m----> 1\u001b[0m data \u001b[38;5;241m=\u001b[39m \u001b[43mc\u001b[49m\u001b[38;5;241;43m.\u001b[39;49m\u001b[43mexecute\u001b[49m\u001b[43m(\u001b[49m\u001b[38;5;124;43m'''\u001b[39;49m\u001b[38;5;124;43mSELECT work_year, salary FROM data_salaries WHERE work_year=2022\u001b[39;49m\u001b[38;5;124;43m'''\u001b[39;49m\u001b[43m)\u001b[49m\u001b[38;5;241m.\u001b[39mfetchall()\n",
      "\u001b[1;31mProgrammingError\u001b[0m: Cannot operate on a closed database."
     ]
    }
   ],
   "source": [
    "data = c.execute('''SELECT work_year, salary FROM data_salaries WHERE work_year=2022''').fetchall()\n",
    "data"
   ]
  },
  {
   "cell_type": "code",
   "execution_count": null,
   "id": "dea7a86e",
   "metadata": {},
   "outputs": [],
   "source": [
    "# add new table to db\n",
    "yearly_data.to_sql('yearly_avg', conn, if_exists='append', index = False)"
   ]
  },
  {
   "cell_type": "code",
   "execution_count": 20,
   "id": "54de1552",
   "metadata": {},
   "outputs": [],
   "source": [
    "conn.close()"
   ]
  },
  {
   "cell_type": "code",
   "execution_count": null,
   "id": "3aab57b1",
   "metadata": {},
   "outputs": [],
   "source": []
  }
 ],
 "metadata": {
  "kernelspec": {
   "display_name": "Python 3 (ipykernel)",
   "language": "python",
   "name": "python3"
  },
  "language_info": {
   "codemirror_mode": {
    "name": "ipython",
    "version": 3
   },
   "file_extension": ".py",
   "mimetype": "text/x-python",
   "name": "python",
   "nbconvert_exporter": "python",
   "pygments_lexer": "ipython3",
   "version": "3.9.13"
  }
 },
 "nbformat": 4,
 "nbformat_minor": 5
}
